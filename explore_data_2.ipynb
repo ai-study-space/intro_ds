{
 "cells": [
  {
   "cell_type": "markdown",
   "id": "4733de89-dda7-4470-9095-31eca75fbf57",
   "metadata": {},
   "source": [
    "## Exploratory Data Analysis with Python (`part-2`)\n",
    "\n",
    "<br>\n",
    "\n",
    "The topics which we are going to cover in this session are as follows: \n",
    "\n",
    ">- Data loading from file\n",
    ">- Missing value handling\n",
    ">- Data visualization\n"
   ]
  },
  {
   "cell_type": "code",
   "execution_count": null,
   "id": "b389f6eb-81a1-4c80-93d1-477964b441bb",
   "metadata": {},
   "outputs": [],
   "source": [
    "import pandas as pd\n",
    "\n",
    "df_students = pd.read_csv('data/student_grades.csv',delimiter=',',header='infer')\n",
    "\n",
    "df_students.head(10)"
   ]
  },
  {
   "cell_type": "markdown",
   "id": "9689c191-04a0-4265-bfc5-e86377c5b9ee",
   "metadata": {},
   "source": [
    "### Handling missing values\n",
    "\n",
    "One of the most common issues data scientists need to deal with is incomplete or missing data. So how would we know that the DataFrame contains missing values? You can use the **isnull** method to identify which individual values are null, like this:"
   ]
  },
  {
   "cell_type": "code",
   "execution_count": 52,
   "id": "eefa7eac-1df6-4f70-9ee2-e81368cae6de",
   "metadata": {},
   "outputs": [
    {
     "name": "stdout",
     "output_type": "stream",
     "text": [
      "    name  study  grades\n",
      "0  False  False   False\n",
      "1  False  False   False\n",
      "2  False  False   False\n",
      "3  False  False   False\n",
      "4  False  False   False\n",
      "5   True  False   False\n",
      "6  False   True   False\n",
      "7  False  False    True\n"
     ]
    }
   ],
   "source": [
    "df_isnull = df_students.isnull()\n",
    "print(df_isnull)"
   ]
  },
  {
   "cell_type": "markdown",
   "id": "19806e37-a000-439c-bbcc-180c55ebcbe6",
   "metadata": {},
   "source": [
    "However, for larger DataFrames, it would be inefficient to review all of the rows and columns individually; so we can get the sum of missing values for each column, like this:"
   ]
  },
  {
   "cell_type": "code",
   "execution_count": null,
   "id": "6e29f74b-73a7-4163-a00e-2836bf084ce9",
   "metadata": {},
   "outputs": [],
   "source": [
    "df_students.isnull().sum()"
   ]
  },
  {
   "cell_type": "code",
   "execution_count": null,
   "id": "7f3a3721-3700-4058-b737-9554b05b405f",
   "metadata": {},
   "outputs": [],
   "source": [
    "df_students.isnull().any(axis=1)"
   ]
  },
  {
   "cell_type": "code",
   "execution_count": null,
   "id": "c6740dfb-6a87-445e-a22f-0534ff999acd",
   "metadata": {},
   "outputs": [],
   "source": [
    "df_students.isnull().any(axis=0)"
   ]
  },
  {
   "cell_type": "code",
   "execution_count": null,
   "id": "2c8fb8aa-03fc-4115-ab98-2734d6d5709c",
   "metadata": {},
   "outputs": [],
   "source": [
    "df_students[df_students.isnull().any(axis=1)]\n",
    "\n",
    "# df_isnull.any(axis=0)"
   ]
  },
  {
   "cell_type": "code",
   "execution_count": null,
   "id": "33bd66fb-3998-4105-b874-ddb0e82c4866",
   "metadata": {},
   "outputs": [],
   "source": []
  }
 ],
 "metadata": {
  "celltoolbar": "Slideshow",
  "kernelspec": {
   "display_name": "Python 3",
   "language": "python",
   "name": "python3"
  },
  "language_info": {
   "codemirror_mode": {
    "name": "ipython",
    "version": 3
   },
   "file_extension": ".py",
   "mimetype": "text/x-python",
   "name": "python",
   "nbconvert_exporter": "python",
   "pygments_lexer": "ipython3",
   "version": "3.8.8"
  },
  "nbpresent": {
   "slides": {
    "6da12ef9-8364-4fde-a016-cc689b92e4e5": {
     "id": "6da12ef9-8364-4fde-a016-cc689b92e4e5",
     "layout": "grid",
     "prev": "9912bd07-2360-45fd-b29b-3f6aa9a28825",
     "regions": {
      "7e8da352-a275-4aad-9d94-cb3c069ffd4b": {
       "attrs": {
        "height": 0.8333333333333334,
        "pad": 0.01,
        "width": 0.8333333333333334,
        "x": 0.08333333333333333,
        "y": 0.08333333333333333
       },
       "id": "7e8da352-a275-4aad-9d94-cb3c069ffd4b"
      },
      "e61b65e7-22c6-48d7-8bc7-a4e8613830d8": {
       "attrs": {
        "height": 1,
        "pad": 0.01,
        "width": 1,
        "x": 0,
        "y": 0
       },
       "id": "e61b65e7-22c6-48d7-8bc7-a4e8613830d8"
      }
     }
    },
    "9912bd07-2360-45fd-b29b-3f6aa9a28825": {
     "id": "9912bd07-2360-45fd-b29b-3f6aa9a28825",
     "prev": null,
     "regions": {
      "8acfd464-abf4-469e-9ffe-4a07fb899c19": {
       "attrs": {
        "height": 0.8,
        "width": 0.7858657243816255,
        "x": 0.10989399293286219,
        "y": 0.10251276010993325
       },
       "content": {
        "cell": "4e6ba3dd-1b3b-47a5-ad58-d238d572d7c7",
        "part": "whole"
       },
       "id": "8acfd464-abf4-469e-9ffe-4a07fb899c19"
      }
     }
    },
    "c8b397dd-4c98-461a-b88b-3d41a0d461e0": {
     "id": "c8b397dd-4c98-461a-b88b-3d41a0d461e0",
     "layout": "grid",
     "prev": "6da12ef9-8364-4fde-a016-cc689b92e4e5",
     "regions": {
      "408ad45f-07bf-4e70-922d-dde4dc60f778": {
       "attrs": {
        "height": 1,
        "pad": 0.01,
        "width": 1,
        "x": 0,
        "y": 0
       },
       "content": null,
       "id": "408ad45f-07bf-4e70-922d-dde4dc60f778"
      },
      "7d475d77-cff7-445b-ae3d-0f28b4633474": {
       "attrs": {
        "height": 0.8333333333333334,
        "pad": 0.01,
        "width": 0.8333333333333334,
        "x": 0.08333333333333333,
        "y": 0.08333333333333333
       },
       "content": null,
       "id": "7d475d77-cff7-445b-ae3d-0f28b4633474"
      }
     }
    }
   },
   "themes": {
    "default": "57fb988a-1863-4744-ad11-af6f99b99cdb",
    "theme": {
     "4188399a-c02d-40aa-af59-20d0391f571c": {
      "backgrounds": {
       "dc7afa04-bf90-40b1-82a5-726e3cff5267": {
        "background-color": "31af15d2-7e15-44c5-ab5e-e04b16a89eff",
        "id": "dc7afa04-bf90-40b1-82a5-726e3cff5267"
       }
      },
      "id": "4188399a-c02d-40aa-af59-20d0391f571c",
      "palette": {
       "19cc588f-0593-49c9-9f4b-e4d7cc113b1c": {
        "id": "19cc588f-0593-49c9-9f4b-e4d7cc113b1c",
        "rgb": [
         252,
         252,
         252
        ]
       },
       "31af15d2-7e15-44c5-ab5e-e04b16a89eff": {
        "id": "31af15d2-7e15-44c5-ab5e-e04b16a89eff",
        "rgb": [
         68,
         68,
         68
        ]
       },
       "50f92c45-a630-455b-aec3-788680ec7410": {
        "id": "50f92c45-a630-455b-aec3-788680ec7410",
        "rgb": [
         197,
         226,
         245
        ]
       },
       "c5cc3653-2ee1-402a-aba2-7caae1da4f6c": {
        "id": "c5cc3653-2ee1-402a-aba2-7caae1da4f6c",
        "rgb": [
         43,
         126,
         184
        ]
       },
       "efa7f048-9acb-414c-8b04-a26811511a21": {
        "id": "efa7f048-9acb-414c-8b04-a26811511a21",
        "rgb": [
         25.118061674008803,
         73.60176211453744,
         107.4819383259912
        ]
       }
      },
      "rules": {
       "a": {
        "color": "19cc588f-0593-49c9-9f4b-e4d7cc113b1c"
       },
       "blockquote": {
        "color": "50f92c45-a630-455b-aec3-788680ec7410",
        "font-size": 3
       },
       "code": {
        "font-family": "Anonymous Pro"
       },
       "h1": {
        "color": "19cc588f-0593-49c9-9f4b-e4d7cc113b1c",
        "font-family": "Merriweather",
        "font-size": 8
       },
       "h2": {
        "color": "19cc588f-0593-49c9-9f4b-e4d7cc113b1c",
        "font-family": "Merriweather",
        "font-size": 6
       },
       "h3": {
        "color": "50f92c45-a630-455b-aec3-788680ec7410",
        "font-family": "Lato",
        "font-size": 5.5
       },
       "h4": {
        "color": "c5cc3653-2ee1-402a-aba2-7caae1da4f6c",
        "font-family": "Lato",
        "font-size": 5
       },
       "h5": {
        "font-family": "Lato"
       },
       "h6": {
        "font-family": "Lato"
       },
       "h7": {
        "font-family": "Lato"
       },
       "li": {
        "color": "50f92c45-a630-455b-aec3-788680ec7410",
        "font-size": 3.25
       },
       "pre": {
        "font-family": "Anonymous Pro",
        "font-size": 4
       }
      },
      "text-base": {
       "color": "19cc588f-0593-49c9-9f4b-e4d7cc113b1c",
       "font-family": "Lato",
       "font-size": 4
      }
     },
     "57fb988a-1863-4744-ad11-af6f99b99cdb": {
      "id": "57fb988a-1863-4744-ad11-af6f99b99cdb",
      "palette": {
       "19cc588f-0593-49c9-9f4b-e4d7cc113b1c": {
        "id": "19cc588f-0593-49c9-9f4b-e4d7cc113b1c",
        "rgb": [
         252,
         252,
         252
        ]
       },
       "31af15d2-7e15-44c5-ab5e-e04b16a89eff": {
        "id": "31af15d2-7e15-44c5-ab5e-e04b16a89eff",
        "rgb": [
         68,
         68,
         68
        ]
       },
       "50f92c45-a630-455b-aec3-788680ec7410": {
        "id": "50f92c45-a630-455b-aec3-788680ec7410",
        "rgb": [
         155,
         177,
         192
        ]
       },
       "c5cc3653-2ee1-402a-aba2-7caae1da4f6c": {
        "id": "c5cc3653-2ee1-402a-aba2-7caae1da4f6c",
        "rgb": [
         43,
         126,
         184
        ]
       },
       "efa7f048-9acb-414c-8b04-a26811511a21": {
        "id": "efa7f048-9acb-414c-8b04-a26811511a21",
        "rgb": [
         25.118061674008803,
         73.60176211453744,
         107.4819383259912
        ]
       }
      },
      "rules": {
       "blockquote": {
        "color": "50f92c45-a630-455b-aec3-788680ec7410"
       },
       "code": {
        "font-family": "Anonymous Pro"
       },
       "h1": {
        "color": "c5cc3653-2ee1-402a-aba2-7caae1da4f6c",
        "font-family": "Lato",
        "font-size": 8
       },
       "h2": {
        "color": "c5cc3653-2ee1-402a-aba2-7caae1da4f6c",
        "font-family": "Lato",
        "font-size": 6
       },
       "h3": {
        "color": "50f92c45-a630-455b-aec3-788680ec7410",
        "font-family": "Lato",
        "font-size": 5.5
       },
       "h4": {
        "color": "c5cc3653-2ee1-402a-aba2-7caae1da4f6c",
        "font-family": "Lato",
        "font-size": 5
       },
       "h5": {
        "font-family": "Lato"
       },
       "h6": {
        "font-family": "Lato"
       },
       "h7": {
        "font-family": "Lato"
       },
       "pre": {
        "font-family": "Anonymous Pro",
        "font-size": 4
       }
      },
      "text-base": {
       "font-family": "Merriweather",
       "font-size": 4
      }
     }
    }
   }
  }
 },
 "nbformat": 4,
 "nbformat_minor": 5
}
