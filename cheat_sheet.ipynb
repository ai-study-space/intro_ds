{
 "cells": [
  {
   "cell_type": "markdown",
   "id": "searching-consideration",
   "metadata": {},
   "source": [
    "### headings\n",
    "***\n",
    "# Header 1\n",
    "## Header 2\n",
    "### Header 3\n",
    "#### Header 4\n",
    "##### Header 5\n",
    "###### Header 6"
   ]
  },
  {
   "cell_type": "markdown",
   "id": "severe-oliver",
   "metadata": {},
   "source": [
    "### bold and italics\n",
    "***\n",
    "**This is bold text**  \n",
    "__This is bold text__\n",
    "***\n",
    "*this is italics*<br>\n",
    "_this is italics_\n"
   ]
  },
  {
   "cell_type": "markdown",
   "id": "proprietary-punch",
   "metadata": {},
   "source": [
    "#### ordered list\n",
    "***\n",
    "<ol>\n",
    "<li>Fish</li>\n",
    "<li>Eggs</li>\n",
    "<li>Cheese</li>\n",
    "</ol>"
   ]
  },
  {
   "cell_type": "markdown",
   "id": "danish-owner",
   "metadata": {},
   "source": [
    "#### Table\n",
    "***\n",
    "|Name|Address|Salary| \n",
    "|-----|-------|------| \n",
    "|Hanna|Brisbane|4000| \n",
    "|Adam|Sydney|5000|"
   ]
  },
  {
   "cell_type": "markdown",
   "id": "impressive-injection",
   "metadata": {},
   "source": [
    "[Section Title](#\"https://www.google.com\")"
   ]
  },
  {
   "cell_type": "markdown",
   "id": "stone-membrane",
   "metadata": {},
   "source": [
    "### link\n",
    "***\n",
    "<a> href=\"https://www.google.com\" Link to `Google`</a>"
   ]
  },
  {
   "cell_type": "markdown",
   "id": "moving-forty",
   "metadata": {},
   "source": [
    "### code\n",
    "***\n",
    "\n",
    "```javascript\n",
    "var s = \"JavaScript syntax highlighting\";\n",
    "alert(s);\n",
    "```\n",
    "***\n",
    "```python\n",
    "s = \"Python syntax highlighting\"\n",
    "print s\n",
    "```"
   ]
  },
  {
   "cell_type": "markdown",
   "id": "wanted-grove",
   "metadata": {
    "tags": []
   },
   "source": [
    "<div class=\"alert alert-block alert-info\">\n",
    "<b>Tip:</b> Use blue boxes (alert-info) for tips and notes.\n",
    "</div>"
   ]
  },
  {
   "cell_type": "markdown",
   "id": "92c69cf6-0606-4741-9591-0f844b61ca28",
   "metadata": {
    "tags": []
   },
   "source": [
    "<div class=\"alert alert-block alert-info\">\n",
    "<b>SGDRegressor:</b> Linear model fitted by minimizing a regularized empirical loss with <span style=\"background-color: cyan\">Stochastic Grdient Descent (SGD)</span>.\n",
    "</div>"
   ]
  },
  {
   "cell_type": "markdown",
   "id": "metric-footwear",
   "metadata": {},
   "source": [
    "<div class=\"alert alert-block alert-warning\">\n",
    "<b>Example:</b> Use yellow boxes for examples that are not inside code cells, or use for mathematical formulas if needed. Typically also used to display warning messages.\n",
    "</div>"
   ]
  },
  {
   "cell_type": "markdown",
   "id": "minute-overhead",
   "metadata": {},
   "source": [
    "<div class=\"alert alert-block alert-success\">\n",
    "<b>Success:</b> This alert box indicates a successful or positive action.\n",
    "</div>"
   ]
  },
  {
   "cell_type": "markdown",
   "id": "d95f43b9-9d1d-43db-a5a9-4242cf9cf7b4",
   "metadata": {},
   "source": [
    "<div class=\"alert alert-block alert-query\">\n",
    "<b>Success:</b> This alert box indicates a successful or positive action.\n",
    "</div>"
   ]
  },
  {
   "cell_type": "markdown",
   "id": "massive-triple",
   "metadata": {},
   "source": [
    "<div class=\"alert alert-block alert-danger\">\n",
    "<b>Danger:</b> This alert box indicates a dangerous or potentially negative action.\n",
    "</div>"
   ]
  },
  {
   "cell_type": "markdown",
   "id": "mental-cream",
   "metadata": {},
   "source": [
    "### task list\n",
    "***\n",
    "- [x] Some task\n",
    "- [ ] Some more task"
   ]
  },
  {
   "cell_type": "code",
   "execution_count": 5,
   "id": "9d2103f8",
   "metadata": {
    "collapsed": false,
    "jupyter": {
     "outputs_hidden": false
    },
    "pycharm": {
     "name": "#%%\n"
    }
   },
   "outputs": [
    {
     "name": "stdout",
     "output_type": "stream",
     "text": [
      "something\n"
     ]
    }
   ],
   "source": [
    "#@title Hidden cell\n",
    "\n",
    "print('something')\n"
   ]
  },
  {
   "cell_type": "markdown",
   "id": "2ea227b9-3233-4633-90a3-4c2c3056f34c",
   "metadata": {
    "jupyter": {
     "outputs_hidden": false
    },
    "pycharm": {
     "name": "#%%\n"
    }
   },
   "source": [
    "<img src=\"images/ols_described_in_graph.png\">"
   ]
  }
 ],
 "metadata": {
  "kernelspec": {
   "display_name": "Python 3",
   "language": "python",
   "name": "python3"
  },
  "language_info": {
   "codemirror_mode": {
    "name": "ipython",
    "version": 3
   },
   "file_extension": ".py",
   "mimetype": "text/x-python",
   "name": "python",
   "nbconvert_exporter": "python",
   "pygments_lexer": "ipython3",
   "version": "3.8.8"
  }
 },
 "nbformat": 4,
 "nbformat_minor": 5
}
