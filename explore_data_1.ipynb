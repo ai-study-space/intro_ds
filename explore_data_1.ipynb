{
 "cells": [
  {
   "cell_type": "markdown",
   "id": "arbitrary-chancellor",
   "metadata": {
    "nbpresent": {
     "id": "4e6ba3dd-1b3b-47a5-ad58-d238d572d7c7"
    },
    "slideshow": {
     "slide_type": "slide"
    },
    "tags": []
   },
   "source": [
    "## Exploratory Data Analysis with Python (`part -1`)\n",
    "\n",
    "<br>\n",
    "\n",
    "Machine Learning (ML) starts with `data` and the first task of ML process is data exploration.\n",
    "\n",
    "***\n",
    "Before approaching any ML problem one must spend a significant amount of time to\n",
    "\n",
    ">- explore\n",
    ">- analyze\n",
    ">- visualize\n",
    "\n",
    "the data.\n",
    "\n",
    "<div class=\"alert alert-block alert-info\">\n",
    "    <b>Note:</b><br>\n",
    "        machine cannot learn without data.<br>\n",
    "        data explorarion is the most important step before applying any ML algorithm.\n",
    "</div>"
   ]
  },
  {
   "cell_type": "markdown",
   "id": "caroline-strategy",
   "metadata": {
    "nbpresent": {
     "id": "bb2689c9-baf2-4cef-9c8d-bbf4946339d5"
    },
    "slideshow": {
     "slide_type": "slide"
    }
   },
   "source": [
    "Let us create some data. Run the code in the cell below by clicking the **&#9658; Run** button to see the results."
   ]
  },
  {
   "cell_type": "code",
   "execution_count": 1,
   "id": "revolutionary-proportion",
   "metadata": {
    "nbpresent": {
     "id": "ba82a19c-4299-4183-a071-05fc0c9637de"
    },
    "slideshow": {
     "slide_type": "fragment"
    }
   },
   "outputs": [
    {
     "name": "stdout",
     "output_type": "stream",
     "text": [
      "[65, 81, 97, 77, 91]\n"
     ]
    }
   ],
   "source": [
    "data = [65,81,97,77,91]\n",
    "print(data)"
   ]
  },
  {
   "cell_type": "code",
   "execution_count": 2,
   "id": "5da09f82-9c20-4949-b0ab-8aac0a6318e2",
   "metadata": {},
   "outputs": [
    {
     "data": {
      "text/plain": [
       "5"
      ]
     },
     "execution_count": 2,
     "metadata": {},
     "output_type": "execute_result"
    }
   ],
   "source": [
    "len(data)"
   ]
  },
  {
   "cell_type": "markdown",
   "id": "lucky-replica",
   "metadata": {
    "nbpresent": {
     "id": "1fb536f1-04b5-4f6c-9dfd-1e0d46ef7908"
    },
    "slideshow": {
     "slide_type": "fragment"
    }
   },
   "source": [
    "Consider the data as the grades."
   ]
  },
  {
   "cell_type": "code",
   "execution_count": 3,
   "id": "structural-watershed",
   "metadata": {
    "nbpresent": {
     "id": "b723e77a-f397-4fbc-ab6c-9bd1dcad70fe"
    }
   },
   "outputs": [
    {
     "name": "stdout",
     "output_type": "stream",
     "text": [
      "[65 81 97 77 91]\n"
     ]
    }
   ],
   "source": [
    "import numpy as np\n",
    "\n",
    "grades = np.array(data)\n",
    "print(grades)"
   ]
  },
  {
   "cell_type": "markdown",
   "id": "gothic-charm",
   "metadata": {
    "nbpresent": {
     "id": "0fdb0c28-d445-453a-bf65-e5fe770d82bb"
    }
   },
   "source": [
    "Just in case you're wondering about the differences between a list and a NumPy array, let's compare how these data types behave when we use them in an expression that multiplies them by 2."
   ]
  },
  {
   "cell_type": "code",
   "execution_count": 4,
   "id": "athletic-stream",
   "metadata": {
    "nbpresent": {
     "id": "93dd2a37-e40b-4a78-bd35-523235751f42"
    },
    "scrolled": true,
    "tags": []
   },
   "outputs": [
    {
     "name": "stdout",
     "output_type": "stream",
     "text": [
      "<class 'list'> x 2: [65, 81, 97, 77, 91, 65, 81, 97, 77, 91]\n",
      "---\n",
      "<class 'numpy.ndarray'> x 2: [130 162 194 154 182]\n"
     ]
    }
   ],
   "source": [
    "print (type(data),'x 2:', data * 2)\n",
    "print('---')\n",
    "print (type(grades),'x 2:', grades * 2)"
   ]
  },
  {
   "cell_type": "markdown",
   "id": "swedish-compact",
   "metadata": {
    "nbpresent": {
     "id": "7d3020e7-506b-411b-8f9c-8397c7a6e123"
    }
   },
   "source": [
    "<div class=\"alert alert-block alert-info\">\n",
    "    <b>Note:</b><br>\n",
    "    The key takeaway from this is the NumPy arrays which are specifically designed to support mathematical operations on numeric data and makes them more useful for data analysis than a generic list. \n",
    "</div>\n"
   ]
  },
  {
   "cell_type": "markdown",
   "id": "selected-juvenile",
   "metadata": {
    "nbpresent": {
     "id": "da250e15-613d-4ee1-85c8-c95df2c95f9c"
    }
   },
   "source": [
    "The class type for the numpy array above is a numpy.ndarray. The `nd` \n",
    "indicates that this is a structure that can consists of multiple dimensions (`n-dimensional array`). Our specific instance has a single dimension of student grades."
   ]
  },
  {
   "cell_type": "code",
   "execution_count": 5,
   "id": "polished-police",
   "metadata": {
    "nbpresent": {
     "id": "462d02ef-8f1d-4de8-b8a5-0b20b2913801"
    }
   },
   "outputs": [
    {
     "data": {
      "text/plain": [
       "(5,)"
      ]
     },
     "execution_count": 5,
     "metadata": {},
     "output_type": "execute_result"
    }
   ],
   "source": [
    "grades.shape"
   ]
  },
  {
   "cell_type": "code",
   "execution_count": 6,
   "id": "imposed-hobby",
   "metadata": {
    "nbpresent": {
     "id": "577ac99a-e2cb-4767-9098-14f828b921f9"
    }
   },
   "outputs": [
    {
     "name": "stdout",
     "output_type": "stream",
     "text": [
      "[65 81 97 77 91]\n"
     ]
    },
    {
     "data": {
      "text/plain": [
       "65"
      ]
     },
     "execution_count": 6,
     "metadata": {},
     "output_type": "execute_result"
    }
   ],
   "source": [
    "print(grades)\n",
    "grades[0]"
   ]
  },
  {
   "cell_type": "code",
   "execution_count": 7,
   "id": "black-bikini",
   "metadata": {
    "nbpresent": {
     "id": "5c8bcee6-b5a8-41ba-b5de-dfda87d0df4f"
    }
   },
   "outputs": [
    {
     "data": {
      "text/plain": [
       "82.2"
      ]
     },
     "execution_count": 7,
     "metadata": {},
     "output_type": "execute_result"
    }
   ],
   "source": [
    "grades.mean()"
   ]
  },
  {
   "cell_type": "markdown",
   "id": "prepared-bouquet",
   "metadata": {
    "nbpresent": {
     "id": "d52e514f-9c69-463b-8bf4-beb2aade8c19"
    }
   },
   "source": [
    "Let's add a second set of data for the same students, this time recording the typical `number of hours per week they devoted to studying`."
   ]
  },
  {
   "cell_type": "code",
   "execution_count": 8,
   "id": "celtic-sound",
   "metadata": {
    "nbpresent": {
     "id": "c861f819-3533-421a-8f49-bfe47ba4c0a7"
    }
   },
   "outputs": [],
   "source": [
    "# Define an array of study hours\n",
    "study_hours = [6,8,11,6,9]"
   ]
  },
  {
   "cell_type": "markdown",
   "id": "circular-medicare",
   "metadata": {
    "nbpresent": {
     "id": "22809f4d-e985-4511-ae3d-64da3f8c8443"
    }
   },
   "source": [
    "Now the data consists of a 2-dimensional array - an array of arrays. Let's look at its shape."
   ]
  },
  {
   "cell_type": "code",
   "execution_count": 9,
   "id": "f1dbbb84-3182-43a7-ae7e-5873b7a103a2",
   "metadata": {},
   "outputs": [
    {
     "data": {
      "text/plain": [
       "array([[ 6,  8, 11,  6,  9],\n",
       "       [65, 81, 97, 77, 91]])"
      ]
     },
     "execution_count": 9,
     "metadata": {},
     "output_type": "execute_result"
    }
   ],
   "source": [
    "# Create a 2D array (an array of arrays)\n",
    "student_data = np.array([study_hours, grades])\n",
    "\n",
    "# display the array\n",
    "student_data"
   ]
  },
  {
   "cell_type": "code",
   "execution_count": 10,
   "id": "humanitarian-singer",
   "metadata": {
    "nbpresent": {
     "id": "dd48c1fa-2598-4e0a-9f97-ffc09677d353"
    }
   },
   "outputs": [
    {
     "data": {
      "text/plain": [
       "(2, 5)"
      ]
     },
     "execution_count": 10,
     "metadata": {},
     "output_type": "execute_result"
    }
   ],
   "source": [
    "# Show shape of 2D array\n",
    "student_data.shape"
   ]
  },
  {
   "cell_type": "markdown",
   "id": "3293fe5d-bf96-4b62-b5dd-c05675367e66",
   "metadata": {
    "tags": []
   },
   "source": [
    "#### `student_data` in tabular form\n",
    "***\n",
    "|study_hours|grades|\n",
    "|-----|------| \n",
    "|6|65| \n",
    "|8|81|\n",
    "|11|97| \n",
    "|6|77|\n",
    "|9|91|\n",
    "\n"
   ]
  },
  {
   "cell_type": "markdown",
   "id": "5ddf7185-42e0-4ec8-9986-82b38a79d509",
   "metadata": {},
   "source": [
    "The **student_data** array contains two elements, each of which is an array containing 5 elements.\n",
    "\n",
    "To navigate this structure, you need to specify the position of each element in the hierarchy. So to find the first value in the first array (which contains the study hours data), you can use the following code."
   ]
  },
  {
   "cell_type": "code",
   "execution_count": 11,
   "id": "d805a0d5-0fe6-472e-a956-c57d1cc69a65",
   "metadata": {},
   "outputs": [
    {
     "data": {
      "text/plain": [
       "6"
      ]
     },
     "execution_count": 11,
     "metadata": {},
     "output_type": "execute_result"
    }
   ],
   "source": [
    "# Show the first element of the first element\n",
    "student_data[0][0]"
   ]
  },
  {
   "cell_type": "markdown",
   "id": "f20720ce-88d3-4f9b-9758-3e2e40e4e592",
   "metadata": {},
   "source": [
    "<div class=\"alert alert-block alert-warning\">\n",
    "    <b>Task:</b> \n",
    "    Print the <b>grades</b> corresponding to the 3rd <b>study_hours<b>.\n",
    "    <br>\n",
    "    <b>Output</b> : It should show 97\n",
    "</div>"
   ]
  },
  {
   "cell_type": "code",
   "execution_count": 12,
   "id": "f35bc407-91d6-42fd-8174-8d5e6beacd25",
   "metadata": {},
   "outputs": [
    {
     "data": {
      "text/plain": [
       "97"
      ]
     },
     "execution_count": 12,
     "metadata": {},
     "output_type": "execute_result"
    }
   ],
   "source": [
    "# write your code here\n",
    "student_data[1][2]"
   ]
  },
  {
   "cell_type": "markdown",
   "id": "e33c0134-269b-4412-96b8-32a9c5aaccd8",
   "metadata": {},
   "source": [
    "Now you have a multidimensional array containing both the student's study time and grade information, which you can use to compare data. For example, how does the mean study time compare to the mean grade?"
   ]
  },
  {
   "cell_type": "code",
   "execution_count": 13,
   "id": "b448aafa-2ed6-435d-9e6a-6d96c315771c",
   "metadata": {
    "tags": []
   },
   "outputs": [
    {
     "name": "stdout",
     "output_type": "stream",
     "text": [
      "Average study hours: 8.00\n",
      "Average grade: 82.20\n"
     ]
    }
   ],
   "source": [
    "# Get the mean value of each sub-array\n",
    "avg_study = student_data[0].mean()\n",
    "avg_grade = student_data[1].mean()\n",
    "\n",
    "print('Average study hours: {:.2f}\\nAverage grade: {:.2f}'.format(avg_study, avg_grade))"
   ]
  },
  {
   "cell_type": "markdown",
   "id": "b40f2885-903a-4440-b2eb-23c5b5695705",
   "metadata": {},
   "source": [
    "## Exploring tabular data with Pandas\n",
    "\n",
    "While NumPy provides a lot of the functionality you need to work with numbers, and specifically arrays of numeric values; when you start to deal with two-dimensional tables of data, the **Pandas** package offers a more convenient structure to work with - the **DataFrame**.\n",
    "\n",
    "**DataFrames** are special type of data structure of `pandas` library which holds data in 2D format. `pandas` library provides different tools to work with `DataFrames` so that we can manipulate and visualize the data as per our requirement.   \n",
    "\n",
    "Run the following cell to import the Pandas library and create a DataFrame with three columns. The first column is a list of `student names`, and the second and third columns are the NumPy arrays containing the `study time` and `grade data`."
   ]
  },
  {
   "cell_type": "code",
   "execution_count": 14,
   "id": "8b3cdc95-20f9-4212-a4d9-7e8ae506f914",
   "metadata": {},
   "outputs": [
    {
     "data": {
      "text/html": [
       "<div>\n",
       "<style scoped>\n",
       "    .dataframe tbody tr th:only-of-type {\n",
       "        vertical-align: middle;\n",
       "    }\n",
       "\n",
       "    .dataframe tbody tr th {\n",
       "        vertical-align: top;\n",
       "    }\n",
       "\n",
       "    .dataframe thead th {\n",
       "        text-align: right;\n",
       "    }\n",
       "</style>\n",
       "<table border=\"1\" class=\"dataframe\">\n",
       "  <thead>\n",
       "    <tr style=\"text-align: right;\">\n",
       "      <th></th>\n",
       "      <th>name</th>\n",
       "      <th>study_hours</th>\n",
       "      <th>grade</th>\n",
       "    </tr>\n",
       "  </thead>\n",
       "  <tbody>\n",
       "    <tr>\n",
       "      <th>0</th>\n",
       "      <td>Dan</td>\n",
       "      <td>6</td>\n",
       "      <td>65</td>\n",
       "    </tr>\n",
       "    <tr>\n",
       "      <th>1</th>\n",
       "      <td>Anila</td>\n",
       "      <td>8</td>\n",
       "      <td>81</td>\n",
       "    </tr>\n",
       "    <tr>\n",
       "      <th>2</th>\n",
       "      <td>Pedro</td>\n",
       "      <td>11</td>\n",
       "      <td>97</td>\n",
       "    </tr>\n",
       "    <tr>\n",
       "      <th>3</th>\n",
       "      <td>Rosie</td>\n",
       "      <td>6</td>\n",
       "      <td>77</td>\n",
       "    </tr>\n",
       "    <tr>\n",
       "      <th>4</th>\n",
       "      <td>Ethan</td>\n",
       "      <td>9</td>\n",
       "      <td>91</td>\n",
       "    </tr>\n",
       "  </tbody>\n",
       "</table>\n",
       "</div>"
      ],
      "text/plain": [
       "    name  study_hours  grade\n",
       "0    Dan            6     65\n",
       "1  Anila            8     81\n",
       "2  Pedro           11     97\n",
       "3  Rosie            6     77\n",
       "4  Ethan            9     91"
      ]
     },
     "execution_count": 14,
     "metadata": {},
     "output_type": "execute_result"
    }
   ],
   "source": [
    "import pandas as pd\n",
    "\n",
    "df_students = pd.DataFrame({'name': ['Dan', 'Anila', 'Pedro', 'Rosie', 'Ethan'],\n",
    "                            'study_hours':student_data[0],\n",
    "                            'grade':student_data[1]})\n",
    "\n",
    "df_students "
   ]
  },
  {
   "cell_type": "markdown",
   "id": "8637a3d5-bfe5-4b17-9669-c5db6cf68c53",
   "metadata": {},
   "source": [
    "<div class=\"alert alert-block alert-info\">\n",
    "    <b>Note:</b><br>\n",
    "    In addition to the columns you specified, the DataFrame includes an <b>index</b> to unique identify each row. We could have specified the index explicitly, and assigned any kind of appropriate value (for example, an email address); but because we didn't specify an index, one has been created with a unique integer value for each row.\n",
    "</div>\n",
    "\n",
    "\n",
    "### Finding and filtering data in a DataFrame\n",
    "\n",
    "You can use the DataFrame's **loc** method to retrieve data for a specific index value, like this."
   ]
  },
  {
   "cell_type": "code",
   "execution_count": 15,
   "id": "c7337203-a4a8-45f1-bb11-a90d9118b0f4",
   "metadata": {},
   "outputs": [
    {
     "data": {
      "text/plain": [
       "array([65, 81])"
      ]
     },
     "execution_count": 15,
     "metadata": {},
     "output_type": "execute_result"
    }
   ],
   "source": [
    "grades[0:2]"
   ]
  },
  {
   "cell_type": "code",
   "execution_count": 16,
   "id": "f07a5ec6-e561-46c9-9e5e-31333f0c4e7d",
   "metadata": {},
   "outputs": [
    {
     "data": {
      "text/plain": [
       "name           Rosie\n",
       "study_hours        6\n",
       "grade             77\n",
       "Name: 3, dtype: object"
      ]
     },
     "execution_count": 16,
     "metadata": {},
     "output_type": "execute_result"
    }
   ],
   "source": [
    "# Get the data for index value 3\n",
    "df_students.loc[3]"
   ]
  },
  {
   "cell_type": "code",
   "execution_count": 17,
   "id": "5ca350e6-a638-4eae-b6a4-1ce7e068667c",
   "metadata": {},
   "outputs": [
    {
     "data": {
      "text/html": [
       "<div>\n",
       "<style scoped>\n",
       "    .dataframe tbody tr th:only-of-type {\n",
       "        vertical-align: middle;\n",
       "    }\n",
       "\n",
       "    .dataframe tbody tr th {\n",
       "        vertical-align: top;\n",
       "    }\n",
       "\n",
       "    .dataframe thead th {\n",
       "        text-align: right;\n",
       "    }\n",
       "</style>\n",
       "<table border=\"1\" class=\"dataframe\">\n",
       "  <thead>\n",
       "    <tr style=\"text-align: right;\">\n",
       "      <th></th>\n",
       "      <th>name</th>\n",
       "      <th>study_hours</th>\n",
       "      <th>grade</th>\n",
       "    </tr>\n",
       "  </thead>\n",
       "  <tbody>\n",
       "    <tr>\n",
       "      <th>0</th>\n",
       "      <td>Dan</td>\n",
       "      <td>6</td>\n",
       "      <td>65</td>\n",
       "    </tr>\n",
       "    <tr>\n",
       "      <th>1</th>\n",
       "      <td>Anila</td>\n",
       "      <td>8</td>\n",
       "      <td>81</td>\n",
       "    </tr>\n",
       "    <tr>\n",
       "      <th>2</th>\n",
       "      <td>Pedro</td>\n",
       "      <td>11</td>\n",
       "      <td>97</td>\n",
       "    </tr>\n",
       "  </tbody>\n",
       "</table>\n",
       "</div>"
      ],
      "text/plain": [
       "    name  study_hours  grade\n",
       "0    Dan            6     65\n",
       "1  Anila            8     81\n",
       "2  Pedro           11     97"
      ]
     },
     "execution_count": 17,
     "metadata": {},
     "output_type": "execute_result"
    }
   ],
   "source": [
    "# Get the rows with index values from 0 to 5\n",
    "df_students.loc[0:2]"
   ]
  },
  {
   "cell_type": "markdown",
   "id": "42a8b322-344b-4d3d-a195-427dd6d990f0",
   "metadata": {},
   "source": [
    "In addition to being able to use the **loc** method to find rows based on the index, you can use the **iloc** method to find rows based on their ordinal position in the DataFrame (regardless of the index):"
   ]
  },
  {
   "cell_type": "code",
   "execution_count": 18,
   "id": "9f3a0a08-2b43-4909-8f89-c9f23b87f1f6",
   "metadata": {},
   "outputs": [
    {
     "data": {
      "text/html": [
       "<div>\n",
       "<style scoped>\n",
       "    .dataframe tbody tr th:only-of-type {\n",
       "        vertical-align: middle;\n",
       "    }\n",
       "\n",
       "    .dataframe tbody tr th {\n",
       "        vertical-align: top;\n",
       "    }\n",
       "\n",
       "    .dataframe thead th {\n",
       "        text-align: right;\n",
       "    }\n",
       "</style>\n",
       "<table border=\"1\" class=\"dataframe\">\n",
       "  <thead>\n",
       "    <tr style=\"text-align: right;\">\n",
       "      <th></th>\n",
       "      <th>name</th>\n",
       "      <th>study_hours</th>\n",
       "      <th>grade</th>\n",
       "    </tr>\n",
       "  </thead>\n",
       "  <tbody>\n",
       "    <tr>\n",
       "      <th>0</th>\n",
       "      <td>Dan</td>\n",
       "      <td>6</td>\n",
       "      <td>65</td>\n",
       "    </tr>\n",
       "    <tr>\n",
       "      <th>1</th>\n",
       "      <td>Anila</td>\n",
       "      <td>8</td>\n",
       "      <td>81</td>\n",
       "    </tr>\n",
       "  </tbody>\n",
       "</table>\n",
       "</div>"
      ],
      "text/plain": [
       "    name  study_hours  grade\n",
       "0    Dan            6     65\n",
       "1  Anila            8     81"
      ]
     },
     "execution_count": 18,
     "metadata": {},
     "output_type": "execute_result"
    }
   ],
   "source": [
    "# Get data in the first five rows\n",
    "df_students.iloc[0:2]"
   ]
  },
  {
   "cell_type": "markdown",
   "id": "7476f78a-b627-4592-8407-cdfab4896536",
   "metadata": {},
   "source": [
    "Look carefully at the `iloc[0:2]` results, and compare them to the `loc[0:2]` results you obtained previously. Can you spot the difference?\n"
   ]
  },
  {
   "cell_type": "markdown",
   "id": "d419a3d3-b3b9-4b26-b6e5-aa23d5850ec2",
   "metadata": {
    "tags": []
   },
   "source": [
    "The **loc** method returned rows with index *label* in the list of values from *0* to *2* - which includes *0*, *1*, and *2* (`three rows`). However, the **iloc** method returns the rows in the `positions` included in the range 0 to 2, and since integer ranges don't include the upper-bound value, this includes positions *0*, and *1* (`two rows`)."
   ]
  },
  {
   "cell_type": "markdown",
   "id": "b7814598-4aa8-41c0-8b6e-a6ad3edcc6e2",
   "metadata": {},
   "source": [
    "**iloc** identifies data values in a DataFrame by *position*, which extends beyond rows to columns. So for example, you can use it to find the values for the columns in positions 1 and 2 in row 0, like this:"
   ]
  },
  {
   "cell_type": "code",
   "execution_count": 19,
   "id": "1b8d3418-44f3-4d47-b381-79e5c08d47c3",
   "metadata": {},
   "outputs": [
    {
     "data": {
      "text/plain": [
       "study_hours     6\n",
       "grade          65\n",
       "Name: 0, dtype: object"
      ]
     },
     "execution_count": 19,
     "metadata": {},
     "output_type": "execute_result"
    }
   ],
   "source": [
    "df_students.iloc[0,[1,2]]"
   ]
  },
  {
   "cell_type": "markdown",
   "id": "98335977-b7e9-4d92-b743-3bb6f6fc5625",
   "metadata": {},
   "source": [
    "<div class=\"alert alert-block alert-warning\">\n",
    "    <b>Task:</b> \n",
    "    Print the <b>name</b> and <b>grade</b> of the student named \"Anila\".\n",
    "    <br>\n",
    "</div>"
   ]
  },
  {
   "cell_type": "code",
   "execution_count": 20,
   "id": "f94341d5-1b77-477b-bb30-6966cb0999dc",
   "metadata": {},
   "outputs": [
    {
     "data": {
      "text/plain": [
       "name           Anila\n",
       "study_hours        8\n",
       "Name: 1, dtype: object"
      ]
     },
     "execution_count": 20,
     "metadata": {},
     "output_type": "execute_result"
    }
   ],
   "source": [
    "# write your code here\n",
    "df_students.iloc[1,[0,1]]"
   ]
  },
  {
   "cell_type": "markdown",
   "id": "517d6d9b-ca4e-4708-b9ce-3062659b9325",
   "metadata": {},
   "source": [
    "The **loc** is used to locate data items based on index values rather than positions. In the absence of an explicit index column, the rows in our dataframe are indexed as integer values, but the columns are identified by name:"
   ]
  },
  {
   "cell_type": "code",
   "execution_count": 21,
   "id": "e8a2d070-a4c0-4225-8828-5ef005c9f690",
   "metadata": {},
   "outputs": [
    {
     "data": {
      "text/plain": [
       "name     Dan\n",
       "grade     65\n",
       "Name: 0, dtype: object"
      ]
     },
     "execution_count": 21,
     "metadata": {},
     "output_type": "execute_result"
    }
   ],
   "source": [
    "df_students.loc[0,['name','grade']]"
   ]
  },
  {
   "cell_type": "markdown",
   "id": "f956e3b1-e0d6-4c94-ae58-3d13af48901e",
   "metadata": {},
   "source": [
    "#### Different methods to `query`"
   ]
  },
  {
   "cell_type": "markdown",
   "id": "c7e71ff6-0b0c-4c4c-babf-68ed0c388609",
   "metadata": {},
   "source": [
    "You can use the **loc** method to find indexed rows based on a filtering expression that references named columns other than the index, like this:"
   ]
  },
  {
   "cell_type": "code",
   "execution_count": 22,
   "id": "48f75f60-19ad-481d-ac25-dc551fe19523",
   "metadata": {},
   "outputs": [
    {
     "data": {
      "text/html": [
       "<div>\n",
       "<style scoped>\n",
       "    .dataframe tbody tr th:only-of-type {\n",
       "        vertical-align: middle;\n",
       "    }\n",
       "\n",
       "    .dataframe tbody tr th {\n",
       "        vertical-align: top;\n",
       "    }\n",
       "\n",
       "    .dataframe thead th {\n",
       "        text-align: right;\n",
       "    }\n",
       "</style>\n",
       "<table border=\"1\" class=\"dataframe\">\n",
       "  <thead>\n",
       "    <tr style=\"text-align: right;\">\n",
       "      <th></th>\n",
       "      <th>name</th>\n",
       "      <th>study_hours</th>\n",
       "      <th>grade</th>\n",
       "    </tr>\n",
       "  </thead>\n",
       "  <tbody>\n",
       "    <tr>\n",
       "      <th>3</th>\n",
       "      <td>Rosie</td>\n",
       "      <td>6</td>\n",
       "      <td>77</td>\n",
       "    </tr>\n",
       "  </tbody>\n",
       "</table>\n",
       "</div>"
      ],
      "text/plain": [
       "    name  study_hours  grade\n",
       "3  Rosie            6     77"
      ]
     },
     "execution_count": 22,
     "metadata": {},
     "output_type": "execute_result"
    }
   ],
   "source": [
    "df_students.loc[df_students['name']=='Rosie']"
   ]
  },
  {
   "cell_type": "markdown",
   "id": "d9531614-8ff2-4ac4-8aad-b425952f50a0",
   "metadata": {},
   "source": [
    "Actually, you don't need to explicitly use the **loc** method to do this - you can simply apply a DataFrame filtering expression, like this:"
   ]
  },
  {
   "cell_type": "code",
   "execution_count": 23,
   "id": "8b3035f8-e2a6-4baa-9812-ece54e66a1f2",
   "metadata": {},
   "outputs": [
    {
     "data": {
      "text/html": [
       "<div>\n",
       "<style scoped>\n",
       "    .dataframe tbody tr th:only-of-type {\n",
       "        vertical-align: middle;\n",
       "    }\n",
       "\n",
       "    .dataframe tbody tr th {\n",
       "        vertical-align: top;\n",
       "    }\n",
       "\n",
       "    .dataframe thead th {\n",
       "        text-align: right;\n",
       "    }\n",
       "</style>\n",
       "<table border=\"1\" class=\"dataframe\">\n",
       "  <thead>\n",
       "    <tr style=\"text-align: right;\">\n",
       "      <th></th>\n",
       "      <th>name</th>\n",
       "      <th>study_hours</th>\n",
       "      <th>grade</th>\n",
       "    </tr>\n",
       "  </thead>\n",
       "  <tbody>\n",
       "    <tr>\n",
       "      <th>3</th>\n",
       "      <td>Rosie</td>\n",
       "      <td>6</td>\n",
       "      <td>77</td>\n",
       "    </tr>\n",
       "  </tbody>\n",
       "</table>\n",
       "</div>"
      ],
      "text/plain": [
       "    name  study_hours  grade\n",
       "3  Rosie            6     77"
      ]
     },
     "execution_count": 23,
     "metadata": {},
     "output_type": "execute_result"
    }
   ],
   "source": [
    "df_students[df_students['name']=='Rosie']"
   ]
  },
  {
   "cell_type": "markdown",
   "id": "17a4766f-edf9-40ef-b86d-f4c2089119ba",
   "metadata": {},
   "source": [
    "You can achieve the same results by using the DataFrame's **query** method, like this:"
   ]
  },
  {
   "cell_type": "code",
   "execution_count": 24,
   "id": "491b7630-9ebb-4693-b8a7-0f48551f6072",
   "metadata": {},
   "outputs": [
    {
     "data": {
      "text/html": [
       "<div>\n",
       "<style scoped>\n",
       "    .dataframe tbody tr th:only-of-type {\n",
       "        vertical-align: middle;\n",
       "    }\n",
       "\n",
       "    .dataframe tbody tr th {\n",
       "        vertical-align: top;\n",
       "    }\n",
       "\n",
       "    .dataframe thead th {\n",
       "        text-align: right;\n",
       "    }\n",
       "</style>\n",
       "<table border=\"1\" class=\"dataframe\">\n",
       "  <thead>\n",
       "    <tr style=\"text-align: right;\">\n",
       "      <th></th>\n",
       "      <th>name</th>\n",
       "      <th>study_hours</th>\n",
       "      <th>grade</th>\n",
       "    </tr>\n",
       "  </thead>\n",
       "  <tbody>\n",
       "    <tr>\n",
       "      <th>3</th>\n",
       "      <td>Rosie</td>\n",
       "      <td>6</td>\n",
       "      <td>77</td>\n",
       "    </tr>\n",
       "  </tbody>\n",
       "</table>\n",
       "</div>"
      ],
      "text/plain": [
       "    name  study_hours  grade\n",
       "3  Rosie            6     77"
      ]
     },
     "execution_count": 24,
     "metadata": {},
     "output_type": "execute_result"
    }
   ],
   "source": [
    "df_students.query('name==\"Rosie\"')"
   ]
  },
  {
   "cell_type": "markdown",
   "id": "f9146cbe-7252-4297-b161-8ca136f6a4bb",
   "metadata": {},
   "source": [
    "Another example of this is the way you refer to a DataFrame column name. You can specify the column name as a named index value (as in the `df_students['Name']` examples we've seen so far), or you can use the column as a property of the DataFrame, like this:"
   ]
  },
  {
   "cell_type": "code",
   "execution_count": 27,
   "id": "e3bcc2e7-7eb9-4d1a-8284-9798701a529a",
   "metadata": {},
   "outputs": [
    {
     "data": {
      "text/html": [
       "<div>\n",
       "<style scoped>\n",
       "    .dataframe tbody tr th:only-of-type {\n",
       "        vertical-align: middle;\n",
       "    }\n",
       "\n",
       "    .dataframe tbody tr th {\n",
       "        vertical-align: top;\n",
       "    }\n",
       "\n",
       "    .dataframe thead th {\n",
       "        text-align: right;\n",
       "    }\n",
       "</style>\n",
       "<table border=\"1\" class=\"dataframe\">\n",
       "  <thead>\n",
       "    <tr style=\"text-align: right;\">\n",
       "      <th></th>\n",
       "      <th>name</th>\n",
       "      <th>study_hours</th>\n",
       "      <th>grade</th>\n",
       "    </tr>\n",
       "  </thead>\n",
       "  <tbody>\n",
       "    <tr>\n",
       "      <th>3</th>\n",
       "      <td>Rosie</td>\n",
       "      <td>6</td>\n",
       "      <td>77</td>\n",
       "    </tr>\n",
       "  </tbody>\n",
       "</table>\n",
       "</div>"
      ],
      "text/plain": [
       "    name  study_hours  grade\n",
       "3  Rosie            6     77"
      ]
     },
     "execution_count": 27,
     "metadata": {},
     "output_type": "execute_result"
    }
   ],
   "source": [
    "df_students[df_students.name == 'Rosie']"
   ]
  },
  {
   "cell_type": "markdown",
   "id": "39caf3bb-9dd7-42fd-b806-e0e6e1b42371",
   "metadata": {},
   "source": [
    "<div class=\"alert alert-block alert-info\">\n",
    "    <b>Note:</b><br>\n",
    "    <i>axis</i> is 0 means operate along the rows for each column.\n",
    "    <br>\n",
    "    <i>axis</i> is 1 means operate along the columns for each row.\n",
    "</div>"
   ]
  },
  {
   "cell_type": "markdown",
   "id": "30b47fe4-ca51-4386-a1a6-1c17607f17ce",
   "metadata": {},
   "source": [
    "Here is how `axis` operates \n",
    "\n",
    "![alt text](images/df_axis.png \"Title\")"
   ]
  },
  {
   "cell_type": "code",
   "execution_count": 28,
   "id": "57eae78d-c22e-4cb0-9be0-5144ff14b25f",
   "metadata": {},
   "outputs": [
    {
     "name": "stdout",
     "output_type": "stream",
     "text": [
      "0     71\n",
      "1     89\n",
      "2    108\n",
      "3     83\n",
      "4    100\n",
      "dtype: int64\n",
      "name           DanAnilaPedroRosieEthan\n",
      "study_hours                         40\n",
      "grade                              411\n",
      "dtype: object\n"
     ]
    }
   ],
   "source": [
    "'''\n",
    "sum along the columns for each row\n",
    "'''\n",
    "print(df_students.sum(axis=1))\n",
    "\n",
    "'''\n",
    "sum along the rows for each column\n",
    "'''\n",
    "print(df_students.sum(axis=0))"
   ]
  },
  {
   "cell_type": "code",
   "execution_count": null,
   "id": "bc4bd464-7ed5-45bf-a935-0289c8a768d7",
   "metadata": {},
   "outputs": [],
   "source": []
  },
  {
   "cell_type": "code",
   "execution_count": null,
   "id": "d69495ac-4571-4d4a-94c9-348d6517f09d",
   "metadata": {},
   "outputs": [],
   "source": []
  }
 ],
 "metadata": {
  "celltoolbar": "Slideshow",
  "kernelspec": {
   "display_name": "Python 3",
   "language": "python",
   "name": "python3"
  },
  "language_info": {
   "codemirror_mode": {
    "name": "ipython",
    "version": 3
   },
   "file_extension": ".py",
   "mimetype": "text/x-python",
   "name": "python",
   "nbconvert_exporter": "python",
   "pygments_lexer": "ipython3",
   "version": "3.8.8"
  },
  "nbpresent": {
   "slides": {
    "6da12ef9-8364-4fde-a016-cc689b92e4e5": {
     "id": "6da12ef9-8364-4fde-a016-cc689b92e4e5",
     "layout": "grid",
     "prev": "9912bd07-2360-45fd-b29b-3f6aa9a28825",
     "regions": {
      "7e8da352-a275-4aad-9d94-cb3c069ffd4b": {
       "attrs": {
        "height": 0.8333333333333334,
        "pad": 0.01,
        "width": 0.8333333333333334,
        "x": 0.08333333333333333,
        "y": 0.08333333333333333
       },
       "id": "7e8da352-a275-4aad-9d94-cb3c069ffd4b"
      },
      "e61b65e7-22c6-48d7-8bc7-a4e8613830d8": {
       "attrs": {
        "height": 1,
        "pad": 0.01,
        "width": 1,
        "x": 0,
        "y": 0
       },
       "id": "e61b65e7-22c6-48d7-8bc7-a4e8613830d8"
      }
     }
    },
    "9912bd07-2360-45fd-b29b-3f6aa9a28825": {
     "id": "9912bd07-2360-45fd-b29b-3f6aa9a28825",
     "prev": null,
     "regions": {
      "8acfd464-abf4-469e-9ffe-4a07fb899c19": {
       "attrs": {
        "height": 0.8,
        "width": 0.7858657243816255,
        "x": 0.10989399293286219,
        "y": 0.10251276010993325
       },
       "content": {
        "cell": "4e6ba3dd-1b3b-47a5-ad58-d238d572d7c7",
        "part": "whole"
       },
       "id": "8acfd464-abf4-469e-9ffe-4a07fb899c19"
      }
     }
    },
    "c8b397dd-4c98-461a-b88b-3d41a0d461e0": {
     "id": "c8b397dd-4c98-461a-b88b-3d41a0d461e0",
     "layout": "grid",
     "prev": "6da12ef9-8364-4fde-a016-cc689b92e4e5",
     "regions": {
      "408ad45f-07bf-4e70-922d-dde4dc60f778": {
       "attrs": {
        "height": 1,
        "pad": 0.01,
        "width": 1,
        "x": 0,
        "y": 0
       },
       "content": null,
       "id": "408ad45f-07bf-4e70-922d-dde4dc60f778"
      },
      "7d475d77-cff7-445b-ae3d-0f28b4633474": {
       "attrs": {
        "height": 0.8333333333333334,
        "pad": 0.01,
        "width": 0.8333333333333334,
        "x": 0.08333333333333333,
        "y": 0.08333333333333333
       },
       "content": null,
       "id": "7d475d77-cff7-445b-ae3d-0f28b4633474"
      }
     }
    }
   },
   "themes": {
    "default": "57fb988a-1863-4744-ad11-af6f99b99cdb",
    "theme": {
     "4188399a-c02d-40aa-af59-20d0391f571c": {
      "backgrounds": {
       "dc7afa04-bf90-40b1-82a5-726e3cff5267": {
        "background-color": "31af15d2-7e15-44c5-ab5e-e04b16a89eff",
        "id": "dc7afa04-bf90-40b1-82a5-726e3cff5267"
       }
      },
      "id": "4188399a-c02d-40aa-af59-20d0391f571c",
      "palette": {
       "19cc588f-0593-49c9-9f4b-e4d7cc113b1c": {
        "id": "19cc588f-0593-49c9-9f4b-e4d7cc113b1c",
        "rgb": [
         252,
         252,
         252
        ]
       },
       "31af15d2-7e15-44c5-ab5e-e04b16a89eff": {
        "id": "31af15d2-7e15-44c5-ab5e-e04b16a89eff",
        "rgb": [
         68,
         68,
         68
        ]
       },
       "50f92c45-a630-455b-aec3-788680ec7410": {
        "id": "50f92c45-a630-455b-aec3-788680ec7410",
        "rgb": [
         197,
         226,
         245
        ]
       },
       "c5cc3653-2ee1-402a-aba2-7caae1da4f6c": {
        "id": "c5cc3653-2ee1-402a-aba2-7caae1da4f6c",
        "rgb": [
         43,
         126,
         184
        ]
       },
       "efa7f048-9acb-414c-8b04-a26811511a21": {
        "id": "efa7f048-9acb-414c-8b04-a26811511a21",
        "rgb": [
         25.118061674008803,
         73.60176211453744,
         107.4819383259912
        ]
       }
      },
      "rules": {
       "a": {
        "color": "19cc588f-0593-49c9-9f4b-e4d7cc113b1c"
       },
       "blockquote": {
        "color": "50f92c45-a630-455b-aec3-788680ec7410",
        "font-size": 3
       },
       "code": {
        "font-family": "Anonymous Pro"
       },
       "h1": {
        "color": "19cc588f-0593-49c9-9f4b-e4d7cc113b1c",
        "font-family": "Merriweather",
        "font-size": 8
       },
       "h2": {
        "color": "19cc588f-0593-49c9-9f4b-e4d7cc113b1c",
        "font-family": "Merriweather",
        "font-size": 6
       },
       "h3": {
        "color": "50f92c45-a630-455b-aec3-788680ec7410",
        "font-family": "Lato",
        "font-size": 5.5
       },
       "h4": {
        "color": "c5cc3653-2ee1-402a-aba2-7caae1da4f6c",
        "font-family": "Lato",
        "font-size": 5
       },
       "h5": {
        "font-family": "Lato"
       },
       "h6": {
        "font-family": "Lato"
       },
       "h7": {
        "font-family": "Lato"
       },
       "li": {
        "color": "50f92c45-a630-455b-aec3-788680ec7410",
        "font-size": 3.25
       },
       "pre": {
        "font-family": "Anonymous Pro",
        "font-size": 4
       }
      },
      "text-base": {
       "color": "19cc588f-0593-49c9-9f4b-e4d7cc113b1c",
       "font-family": "Lato",
       "font-size": 4
      }
     },
     "57fb988a-1863-4744-ad11-af6f99b99cdb": {
      "id": "57fb988a-1863-4744-ad11-af6f99b99cdb",
      "palette": {
       "19cc588f-0593-49c9-9f4b-e4d7cc113b1c": {
        "id": "19cc588f-0593-49c9-9f4b-e4d7cc113b1c",
        "rgb": [
         252,
         252,
         252
        ]
       },
       "31af15d2-7e15-44c5-ab5e-e04b16a89eff": {
        "id": "31af15d2-7e15-44c5-ab5e-e04b16a89eff",
        "rgb": [
         68,
         68,
         68
        ]
       },
       "50f92c45-a630-455b-aec3-788680ec7410": {
        "id": "50f92c45-a630-455b-aec3-788680ec7410",
        "rgb": [
         155,
         177,
         192
        ]
       },
       "c5cc3653-2ee1-402a-aba2-7caae1da4f6c": {
        "id": "c5cc3653-2ee1-402a-aba2-7caae1da4f6c",
        "rgb": [
         43,
         126,
         184
        ]
       },
       "efa7f048-9acb-414c-8b04-a26811511a21": {
        "id": "efa7f048-9acb-414c-8b04-a26811511a21",
        "rgb": [
         25.118061674008803,
         73.60176211453744,
         107.4819383259912
        ]
       }
      },
      "rules": {
       "blockquote": {
        "color": "50f92c45-a630-455b-aec3-788680ec7410"
       },
       "code": {
        "font-family": "Anonymous Pro"
       },
       "h1": {
        "color": "c5cc3653-2ee1-402a-aba2-7caae1da4f6c",
        "font-family": "Lato",
        "font-size": 8
       },
       "h2": {
        "color": "c5cc3653-2ee1-402a-aba2-7caae1da4f6c",
        "font-family": "Lato",
        "font-size": 6
       },
       "h3": {
        "color": "50f92c45-a630-455b-aec3-788680ec7410",
        "font-family": "Lato",
        "font-size": 5.5
       },
       "h4": {
        "color": "c5cc3653-2ee1-402a-aba2-7caae1da4f6c",
        "font-family": "Lato",
        "font-size": 5
       },
       "h5": {
        "font-family": "Lato"
       },
       "h6": {
        "font-family": "Lato"
       },
       "h7": {
        "font-family": "Lato"
       },
       "pre": {
        "font-family": "Anonymous Pro",
        "font-size": 4
       }
      },
      "text-base": {
       "font-family": "Merriweather",
       "font-size": 4
      }
     }
    }
   }
  }
 },
 "nbformat": 4,
 "nbformat_minor": 5
}
